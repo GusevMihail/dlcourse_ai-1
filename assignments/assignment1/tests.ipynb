{
 "cells": [
  {
   "cell_type": "code",
   "execution_count": 1,
   "metadata": {
    "collapsed": true,
    "pycharm": {
     "is_executing": false
    }
   },
   "outputs": [],
   "source": [
    "import numpy as np"
   ]
  },
  {
   "cell_type": "code",
   "execution_count": 24,
   "outputs": [
    {
     "name": "stdout",
     "text": [
      "[[0 1 2]\n [3 4 5]]\n[[10 12 14]\n [16 18 20]\n [22 24 26]]\n"
     ],
     "output_type": "stream"
    }
   ],
   "source": [
    "a=np.arange(6)\n",
    "a=a.reshape((2,3))\n",
    "print(a)\n",
    "b=np.arange(10,28,2)\n",
    "b=b.reshape((3,3))\n",
    "print(b)"
   ],
   "metadata": {
    "collapsed": false,
    "pycharm": {
     "name": "#%%\n",
     "is_executing": false
    }
   }
  },
  {
   "cell_type": "code",
   "execution_count": 25,
   "outputs": [
    {
     "name": "stdout",
     "text": [
      "(2, 1, 3)\n(1, 3, 3)\n"
     ],
     "output_type": "stream"
    }
   ],
   "source": [
    "a=a[:,np.newaxis,:]\n",
    "print(a.shape)\n",
    "b=b[np.newaxis,:,:]\n",
    "print(b.shape)"
   ],
   "metadata": {
    "collapsed": false,
    "pycharm": {
     "name": "#%%\n",
     "is_executing": false
    }
   }
  },
  {
   "cell_type": "code",
   "execution_count": 30,
   "outputs": [
    {
     "name": "stdout",
     "text": [
      "[[33 51 69]\n [24 42 60]]\n"
     ],
     "output_type": "stream"
    }
   ],
   "source": [
    "c=a-b\n",
    "c=np.abs(c)\n",
    "c=np.sum(c, axis=2)\n",
    "print(c)\n",
    "\n",
    "\n"
   ],
   "metadata": {
    "collapsed": false,
    "pycharm": {
     "name": "#%%\n",
     "is_executing": false
    }
   }
  },
  {
   "cell_type": "code",
   "execution_count": null,
   "outputs": [],
   "source": [
    "\n"
   ],
   "metadata": {
    "collapsed": false,
    "pycharm": {
     "name": "#%%\n"
    }
   }
  }
 ],
 "metadata": {
  "language_info": {
   "codemirror_mode": {
    "name": "ipython",
    "version": 2
   },
   "file_extension": ".py",
   "mimetype": "text/x-python",
   "name": "python",
   "nbconvert_exporter": "python",
   "pygments_lexer": "ipython2",
   "version": "2.7.6"
  },
  "kernelspec": {
   "name": "python3",
   "language": "python",
   "display_name": "Python 3"
  },
  "pycharm": {
   "stem_cell": {
    "cell_type": "raw",
    "source": [],
    "metadata": {
     "collapsed": false
    }
   }
  }
 },
 "nbformat": 4,
 "nbformat_minor": 0
}